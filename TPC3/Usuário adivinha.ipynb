{
 "cells": [
  {
   "cell_type": "markdown",
   "metadata": {},
   "source": [
    "## TPC3: Adivinha o número!?\n",
    "\n",
    "Desenvolve em Python o código necessário para o jogo do Adivinha o número: \n",
    "* O jogo deverá ter dois modos: o computador tenta acertar no número que o jogador pensou ou, o jogador tenta acertar no número que o computador pensou; \n",
    "* No fim, o programa deverá indicar quantas tentativas foram realizadas para chegar ao resultado;\n",
    "* O Jogo: \n",
    "    - o utilizador pensa num número entre 0 e 100;\n",
    "    - o computador tenta adivinhar indicando um número do intervalo;\n",
    "    - o utilizador indica se o número em que pensou é **maior**, **menor**, ou se o computador **acertou**;\n",
    "    - ao terminar, o programa imprime o número de tentativas que o computador teve de fazer até chegar ao número.\n",
    "\n",
    "Que conclusão podes tirar sobre o número de tentativas necessárias para um número entre 0 e 100? E se fosse entre 0 e 1000?"
   ]
  },
  {
   "cell_type": "code",
   "execution_count": 2,
   "metadata": {},
   "outputs": [
    {
     "name": "stdout",
     "output_type": "stream",
     "text": [
      "ERRO, o número é maior!\n",
      "ERRO, o número é menor!\n",
      "ERRO, o número é menor!\n",
      "ERRO, o número é menor!\n",
      "ERRO, o número é menor!\n",
      "O número escolhido foi 60, acertaste após 5 tentativas\n"
     ]
    }
   ],
   "source": [
    "# Utilizador tenta adivinhar \n",
    "import random \n",
    "tentativas = 0\n",
    "a = random.randrange(0,100)\n",
    "b = int(input(\"Digite o teu número:\"))\n",
    "while (a!=b):\n",
    "    if (a>b) :\n",
    "        print(\"ERRO, o número é maior!\")\n",
    "    elif (a<b):\n",
    "        print(\"ERRO, o número é menor!\")\n",
    "    tentativas += 1\n",
    "    b= int(input(\"Digite um novo numero:\"))\n",
    "\n",
    "print (f\"O número escolhido foi {a}, acertaste após {tentativas} tentativas\")"
   ]
  }
 ],
 "metadata": {
  "kernelspec": {
   "display_name": "Python 3",
   "language": "python",
   "name": "python3"
  },
  "language_info": {
   "codemirror_mode": {
    "name": "ipython",
    "version": 3
   },
   "file_extension": ".py",
   "mimetype": "text/x-python",
   "name": "python",
   "nbconvert_exporter": "python",
   "pygments_lexer": "ipython3",
   "version": "3.11.5"
  },
  "orig_nbformat": 4
 },
 "nbformat": 4,
 "nbformat_minor": 2
}
