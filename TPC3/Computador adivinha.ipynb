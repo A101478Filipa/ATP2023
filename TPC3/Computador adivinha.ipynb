{
 "cells": [
  {
   "cell_type": "markdown",
   "metadata": {},
   "source": [
    "## TPC3: Adivinha o número!?\n",
    "\n",
    "Desenvolve em Python o código necessário para o jogo do Adivinha o número: \n"
   ]
  },
  {
   "cell_type": "markdown",
   "metadata": {},
   "source": [
    "* O jogo deverá ter dois modos: o computador tenta acertar no número que o jogador pensou ou, o jogador tenta acertar no número que o computador pensou; \n",
    "* No fim, o programa deverá indicar quantas tentativas foram realizadas para chegar ao resultado;\n",
    "* O Jogo: \n",
    "    - o utilizador pensa num número entre 0 e 100;\n",
    "    - o computador tenta adivinhar indicando um número do intervalo;\n",
    "    - o utilizador indica se o número em que pensou é **maior**, **menor**, ou se o computador **acertou**;\n",
    "    - ao terminar, o programa imprime o número de tentativas que o computador teve de fazer até chegar ao número.\n",
    "\n",
    "Que conclusão podes tirar sobre o número de tentativas necessárias para um número entre 0 e 100? E se fosse entre 0 e 1000?"
   ]
  },
  {
   "cell_type": "code",
   "execution_count": 2,
   "metadata": {},
   "outputs": [
    {
     "name": "stdout",
     "output_type": "stream",
     "text": [
      "Minha nova tentativa é: 5\n",
      "Minha nova tentativa é: 53\n",
      "Minha nova tentativa é: 29\n",
      "Minha nova tentativa é: 41\n",
      "Minha nova tentativa é: 47\n",
      "Minha nova tentativa é: 44\n",
      "Minha nova tentativa é: 42\n",
      "Minha nova tentativa é: 43\n",
      "Eu acertei em 8 tentativas!\n"
     ]
    }
   ],
   "source": [
    "#Computador adivinha o número \n",
    "import random \n",
    "\n",
    "a = random.randint(0, 100) # Gera um número aleatório entre 1 e 100\n",
    "b= 0\n",
    "\n",
    "Min = 0\n",
    "Máx = 100\n",
    "tentativas = 0 \n",
    "\n",
    "while (b != 1):\n",
    "\n",
    "    print(f\"Minha nova tentativa é: {a}\")\n",
    "    b = int(input(\"Digite 1 se eu acertei, 2 se é maior ou 3 se é menor: \"))\n",
    "\n",
    "    if b == 2:\n",
    "        Min = a + 1\n",
    "        a = int( (Min +((Máx-Min)/2)))\n",
    "    elif b == 3:\n",
    "        Máx = a - 1\n",
    "        a = int((Máx - ((Máx-Min)/2)))\n",
    "    elif b != 1:\n",
    "        print(\"Por favor, responda com 1, 2 ou 3.\")\n",
    "\n",
    "    tentativas += 1\n",
    "\n",
    "print(f\"Eu acertei em {tentativas} tentativas!\")"
   ]
  }
 ],
 "metadata": {
  "kernelspec": {
   "display_name": "Python 3",
   "language": "python",
   "name": "python3"
  },
  "language_info": {
   "codemirror_mode": {
    "name": "ipython",
    "version": 3
   },
   "file_extension": ".py",
   "mimetype": "text/x-python",
   "name": "python",
   "nbconvert_exporter": "python",
   "pygments_lexer": "ipython3",
   "version": "3.11.5"
  },
  "orig_nbformat": 4
 },
 "nbformat": 4,
 "nbformat_minor": 2
}
