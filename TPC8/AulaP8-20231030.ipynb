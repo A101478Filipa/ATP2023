{
 "cells": [
  {
   "cell_type": "markdown",
   "id": "1e545158",
   "metadata": {},
   "source": [
    "# Aula Prática 8 (guião)\n",
    "### Semana de 30 de Outubro a 3 de Novembro de 2023\n",
    "### José Carlos Ramalho e Luís Cunha\n",
    "### Sinopsis:\n",
    "Consolidação e aferição de tudo o que foi feito até ao momento. "
   ]
  },
  {
   "cell_type": "markdown",
   "id": "9b9b5140-2b81-435e-9fc0-324437a7b453",
   "metadata": {},
   "source": [
    "### Assunto: Frações\n",
    "Vamos pensar num modelo: o que é uma fração estruturalmente?"
   ]
  },
  {
   "cell_type": "code",
   "execution_count": 1,
   "id": "5a6da5eb",
   "metadata": {},
   "outputs": [],
   "source": [
    "# Modelo duma fração \n",
    "f1 = (1,2)\n",
    "\n",
    "# Modelo duma lista de frações  [(1,2),(2,3)(4,3)]"
   ]
  },
  {
   "cell_type": "markdown",
   "id": "d477052b-e074-4a5d-ac12-85c2286a1e5f",
   "metadata": {},
   "source": [
    "### Construtor"
   ]
  },
  {
   "cell_type": "code",
   "execution_count": 2,
   "metadata": {},
   "outputs": [
    {
     "name": "stdout",
     "output_type": "stream",
     "text": [
      "1/2 "
     ]
    }
   ],
   "source": [
    "def criarFracao(numerador, denominador):\n",
    "    return (numerador,denominador)\n",
    "\n",
    "def verFracao(f):\n",
    "    print(f[0], \"/\",f[1], sep = \"\", end=\" \")  #diz que o separador é nada ou seja ja não vai haver espaço no print\n",
    "    return                                     #o end tira o \\n para nao dar paragrafo\n",
    "verFracao((1,2))"
   ]
  },
  {
   "cell_type": "code",
   "execution_count": 3,
   "id": "d46df3ff",
   "metadata": {},
   "outputs": [
    {
     "name": "stdout",
     "output_type": "stream",
     "text": [
      "2/3 "
     ]
    }
   ],
   "source": [
    "f1 = criarFracao(2,3)\n",
    "verFracao(f1)"
   ]
  },
  {
   "cell_type": "markdown",
   "id": "f7cd0ff1",
   "metadata": {},
   "source": [
    "### Simplificação de frações"
   ]
  },
  {
   "cell_type": "code",
   "execution_count": 72,
   "id": "8b0fa08f",
   "metadata": {},
   "outputs": [],
   "source": [
    "def simplificarFracao(f):\n",
    "    divisor = mdc(f[0],f[1])\n",
    "    return (f[0]/divisor,f[1]/divisor)\n",
    "# Para simplificar frações temos de encontrar o maximo divisor comum de ambos os numeros \n",
    "def mdc(a,b):\n",
    "    while a != b :\n",
    "        if a > b:\n",
    "            aux = a \n",
    "            a = b\n",
    "            b = aux - b\n",
    "        else :\n",
    "            a, b =b,a\n",
    "    return b\n",
    "    "
   ]
  },
  {
   "cell_type": "code",
   "execution_count": 73,
   "id": "8821d031",
   "metadata": {},
   "outputs": [
    {
     "name": "stdout",
     "output_type": "stream",
     "text": [
      "3.0/20.0 "
     ]
    }
   ],
   "source": [
    "verFracao(simplificarFracao(criarFracao(21, 140)))"
   ]
  },
  {
   "cell_type": "markdown",
   "id": "ca2f1736",
   "metadata": {},
   "source": [
    "### Frações equivalentes\n",
    "\n",
    "Defina uma função que recebe duas frações como argumento e devolve `True` se as frações são equivalentes e `False` caso contrário."
   ]
  },
  {
   "cell_type": "code",
   "execution_count": null,
   "metadata": {},
   "outputs": [],
   "source": [
    "def equivalenteFracao(f1,f2):\n",
    "    return simplificarFracao(f1) == simplificarFracao(f2)\n",
    "\n",
    "f2 = (2,4)\n",
    "f3 = (4,8)\n",
    "f4 = (3,7)\n",
    "print(equivalenteFracao(f2,f3))"
   ]
  },
  {
   "cell_type": "markdown",
   "id": "d52f012f",
   "metadata": {},
   "source": [
    "## Operações sobre frações"
   ]
  },
  {
   "cell_type": "code",
   "execution_count": 12,
   "id": "96ba280b",
   "metadata": {},
   "outputs": [
    {
     "name": "stdout",
     "output_type": "stream",
     "text": [
      "29/21 "
     ]
    }
   ],
   "source": [
    "def somarFrac(f1, f2):\n",
    "    return f1[0] * f2[1] + f2[0] * f1[1], f1[1] * f2[1]\n",
    "\n",
    "f2 = criarFracao(5,7)\n",
    "verFracao(somarFrac(f1,f2))"
   ]
  },
  {
   "cell_type": "code",
   "execution_count": 15,
   "id": "a0198bce",
   "metadata": {},
   "outputs": [
    {
     "name": "stdout",
     "output_type": "stream",
     "text": [
      "[(6, 19), (3, 16), (1, 15), (4, 17), (6, 18), (3, 11), (2, 4), (9, 8), (9, 18), (9, 7), (8, 15), (5, 14), (5, 4), (2, 6), (5, 2), (5, 5), (3, 12), (2, 17), (3, 10)]\n"
     ]
    }
   ],
   "source": [
    "listaFrac = [f1, f2, criarFracao(125,1000), (8,12)]\n",
    "listaFrac2 = []\n",
    "import random\n",
    "for i in range(1,20):\n",
    "    n = random.randrange(1, 10)\n",
    "    d = random.randrange(2, 20)\n",
    "    listaFrac2.append(criarFracao(n,d))\n",
    "print(listaFrac2)"
   ]
  },
  {
   "cell_type": "markdown",
   "id": "e83e4eae",
   "metadata": {},
   "source": [
    "### Soma uma lista de frações"
   ]
  },
  {
   "cell_type": "code",
   "execution_count": 16,
   "id": "402d83f0",
   "metadata": {},
   "outputs": [
    {
     "data": {
      "text/plain": [
       "(72941841748758528000, 6362974482923520000)"
      ]
     },
     "execution_count": 16,
     "metadata": {},
     "output_type": "execute_result"
    }
   ],
   "source": [
    "def somarListaFrac (lista):\n",
    "    res=lista[0]\n",
    "    i=1\n",
    "    while i<len(lista):\n",
    "        res= somarFrac(res,lista[i])\n",
    "        i=i+1\n",
    "    return res\n",
    "\n",
    "somarListaFrac(listaFrac2)"
   ]
  },
  {
   "cell_type": "markdown",
   "id": "a88929cc",
   "metadata": {},
   "source": [
    "### Multiplica 2 frações"
   ]
  },
  {
   "cell_type": "code",
   "execution_count": 17,
   "id": "519c5358",
   "metadata": {},
   "outputs": [
    {
     "data": {
      "text/plain": [
       "(10, 21)"
      ]
     },
     "execution_count": 17,
     "metadata": {},
     "output_type": "execute_result"
    }
   ],
   "source": [
    "def multFrac(f1, f2):\n",
    "    num,den=f1\n",
    "    numm,denn=f2\n",
    "    num_atual= num*numm\n",
    "    den_atual=den*denn\n",
    "    return (num_atual,den_atual)\n",
    "\n",
    "multFrac(f1,f2)"
   ]
  },
  {
   "cell_type": "markdown",
   "id": "d1f0c8fa",
   "metadata": {},
   "source": [
    "### Ordenar uma lista de frações por ordem decrescente"
   ]
  },
  {
   "cell_type": "code",
   "execution_count": 19,
   "id": "b783df02",
   "metadata": {},
   "outputs": [
    {
     "data": {
      "text/plain": [
       "[(5, 7), (2, 3), (8, 12), (125, 1000)]"
      ]
     },
     "execution_count": 19,
     "metadata": {},
     "output_type": "execute_result"
    }
   ],
   "source": [
    "def ordena(f):\n",
    "    return f[0]/f[1]\n",
    "\n",
    "\n",
    "\n",
    "def ordenaFracDec(lista):\n",
    "    lista=sorted(lista, key=ordena,reverse= True) # reverse=True quer dizer que está a ser ordenada de forma decrescente\n",
    "    return lista\n",
    "\n",
    "ordenaFracDec(listaFrac)"
   ]
  },
  {
   "cell_type": "markdown",
   "id": "fcd5b5d6",
   "metadata": {},
   "source": [
    "### Guardar uma lista de frações num ficheiro"
   ]
  },
  {
   "cell_type": "code",
   "execution_count": 20,
   "id": "2840f9b2",
   "metadata": {},
   "outputs": [],
   "source": [
    "def gravaListaFrac(fnome,lista):\n",
    "    file=open(fnome,'w')\n",
    "    for f in lista:\n",
    "        registo=str(f[0])+\"/\"+str(f[1])+\"\\n\" #para string usar o +\n",
    "        file.write(registo)\n",
    "    file.close()\n",
    "    return \n",
    "\n",
    "gravaListaFrac(\"fracoes.txt\",listaFrac)"
   ]
  },
  {
   "cell_type": "markdown",
   "id": "0664fcdc",
   "metadata": {},
   "source": [
    "### Recuperar uma lista de frações dum ficheiro"
   ]
  },
  {
   "cell_type": "code",
   "execution_count": 21,
   "id": "82aece6e",
   "metadata": {},
   "outputs": [
    {
     "name": "stdout",
     "output_type": "stream",
     "text": [
      "[(2, 3), (5, 7), (125, 1000), (8, 12)]\n"
     ]
    }
   ],
   "source": [
    "def carregaListaFrac(fnome):\n",
    "    file=open(fnome,'r')\n",
    "    lista=[]\n",
    "    for line in file:\n",
    "        f=line.strip()\n",
    "        frac= f.split(\"/\")\n",
    "        num,dem=frac\n",
    "        lista.append((int(num),int(dem)))\n",
    "    #ou\n",
    "    #for linha in file:\n",
    "    #   linha=linha[:1]\n",
    "    #   fracao=linha.split(\"/\")\n",
    "    #   num=fracao[0]\n",
    "    #   den=fracao[1]\n",
    "    #   lista.append((int(num),int(den)))\n",
    "    file.close()\n",
    "    return lista\n",
    "\n",
    "print(carregaListaFrac(\"fracoes.txt\"))"
   ]
  },
  {
   "cell_type": "markdown",
   "id": "4193a91b",
   "metadata": {},
   "source": [
    "## TPC8: Teste de aferição\n",
    "\n",
    "Resolva os problemas apresentados a seguir."
   ]
  },
  {
   "cell_type": "markdown",
   "id": "ecb162bd",
   "metadata": {},
   "source": [
    "### tpc-1. Especifique as seguintes listas em compreensão:"
   ]
  },
  {
   "cell_type": "markdown",
   "id": "4e758271",
   "metadata": {},
   "source": [
    "#### a) Lista formada pelos elementos que não são comuns às duas listas:"
   ]
  },
  {
   "cell_type": "code",
   "execution_count": 27,
   "metadata": {},
   "outputs": [
    {
     "name": "stdout",
     "output_type": "stream",
     "text": [
      "[1, 2, 3, 6, 7, 8]\n"
     ]
    }
   ],
   "source": [
    "lista1 = [1, 2, 3, 4, 5]\n",
    "lista2 = [4, 5, 6, 7, 8]  \n",
    "comuns = [numero for numero in lista1+lista2 if numero not in lista2 or numero not in lista1]\n",
    "# Resultado esperado: [1,2,3,6,7,8]\n",
    "print(comuns)"
   ]
  },
  {
   "cell_type": "markdown",
   "id": "0ded2f03",
   "metadata": {},
   "source": [
    "#### b) Lista formada pelas palavras do texto compostas por mais de 3 letras:"
   ]
  },
  {
   "cell_type": "code",
   "execution_count": 30,
   "id": "4ae7f5d0",
   "metadata": {},
   "outputs": [
    {
     "name": "stdout",
     "output_type": "stream",
     "text": [
      "['Vivia', 'poucos', 'anos', 'algures', 'concelho', 'Ribatejo', 'pequeno', 'lavrador', 'negociante', 'gado', 'chamado', 'Manuel', 'Peres', 'Vigário']\n"
     ]
    }
   ],
   "source": [
    "texto = \"\"\"Vivia há já não poucos anos algures num concelho do Ribatejo \n",
    "    um pequeno lavrador e negociante de gado chamado Manuel Peres Vigário\"\"\"\n",
    "lista = [palavra for palavra in texto.split() if len(palavra)>3]\n",
    "# Resultado esperado: ['Vivia', 'poucos', 'anos', 'algures', 'concelho', ...]\n",
    "print(lista)"
   ]
  },
  {
   "cell_type": "markdown",
   "id": "ecf72afd",
   "metadata": {},
   "source": [
    "#### c) Lista formada por pares do tipo (índice, valor) com os valores da lista dada:"
   ]
  },
  {
   "cell_type": "code",
   "execution_count": 33,
   "id": "876b2cc3",
   "metadata": {},
   "outputs": [
    {
     "name": "stdout",
     "output_type": "stream",
     "text": [
      "[(1, 'anaconda'), (2, 'burro'), (3, 'cavalo'), (4, 'macaco')]\n"
     ]
    }
   ],
   "source": [
    "lista = ['anaconda', 'burro', 'cavalo', 'macaco']\n",
    "listaRes = [(i,valor) for i, valor in enumerate(lista,1)]\n",
    "# Resultado esperado: [(1,'anaconda'), (2,'burro'), (3,'cavalo'), (4,'macaco')]\n",
    "print(listaRes)"
   ]
  },
  {
   "cell_type": "markdown",
   "id": "28cb3dc4",
   "metadata": {},
   "source": [
    "### tpc-2. À semelhança do que foi feito nas aulas, realize as seguintes tarefas:"
   ]
  },
  {
   "cell_type": "markdown",
   "id": "5d3f1dbe",
   "metadata": {},
   "source": [
    "#### a) Especifique uma função que dada uma string e uma substring não vazia, calcula  o número de vezes em que a substring aparece na string, sem que haja sobreposição de substrings:"
   ]
  },
  {
   "cell_type": "code",
   "execution_count": 40,
   "id": "4458c7bc",
   "metadata": {},
   "outputs": [
    {
     "name": "stdout",
     "output_type": "stream",
     "text": [
      "2\n",
      "1\n",
      "0\n"
     ]
    }
   ],
   "source": [
    "def strCount(s, subs):\n",
    "    return s.count(subs)\n",
    "\n",
    "print(strCount(\"catcowcat\", \"cat\")) # --> 2\n",
    "print(strCount(\"catcowcat\", \"cow\")) # --> 1\n",
    "print(strCount(\"catcowcat\", \"dog\")) # --> 0"
   ]
  },
  {
   "cell_type": "markdown",
   "id": "e6db31d7",
   "metadata": {},
   "source": [
    "#### b) Especifique uma função que recebe uma lista de números inteiros positivos e devolve o menor produto que for possível calcular multiplicando os 3 menores inteiros da lista:"
   ]
  },
  {
   "cell_type": "code",
   "execution_count": 43,
   "id": "2b5ad344",
   "metadata": {},
   "outputs": [
    {
     "name": "stdout",
     "output_type": "stream",
     "text": [
      "168\n"
     ]
    }
   ],
   "source": [
    "def produtoM3(lista):\n",
    "    lista.sort()\n",
    "    res = lista[0]*lista[1]*lista[2]\n",
    "\n",
    "    return res\n",
    "\n",
    "print(produtoM3([12,3,7,10,12,8,9]))\n",
    "# Resultado esperado: 168 = 3 * 7 * 8"
   ]
  },
  {
   "cell_type": "markdown",
   "id": "6698b337",
   "metadata": {},
   "source": [
    "#### c) Especifique uma função que dado um número inteiro positivo, repetidamente adiciona os seus dígitos até obter apenas um dígito que é retornado como resultado:"
   ]
  },
  {
   "cell_type": "code",
   "execution_count": 46,
   "id": "54cef309",
   "metadata": {},
   "outputs": [
    {
     "data": {
      "text/plain": [
       "2"
      ]
     },
     "execution_count": 46,
     "metadata": {},
     "output_type": "execute_result"
    }
   ],
   "source": [
    "# Input: 38\n",
    "# Output: 2\n",
    "# Explicação: 3 + 8 = 11, 1 + 1 = 2.\n",
    "\n",
    "# Input: 777\n",
    "# Output: 3\n",
    "# Explicação: 7 + 7 + 7 = 21, 2 + 1 = 3.\n",
    "\n",
    "def reduxInt(n):\n",
    "    lista_digitos = [int(digito) for digito in str(n)]\n",
    "    res = 0\n",
    "    soma = 0\n",
    "    for i in lista_digitos:\n",
    "        res += i\n",
    "    lista2_digitos = [int(digito) for digito in str(res)]\n",
    "    for l in lista2_digitos :\n",
    "        soma += l\n",
    "    return soma\n",
    "\n",
    "reduxInt(777)\n",
    "reduxInt(38)\n"
   ]
  },
  {
   "cell_type": "markdown",
   "id": "4a47b6e8",
   "metadata": {},
   "source": [
    "#### d) Especifique uma função que recebe duas strings, `string1` e `string2`, e devolve o índice da primeira ocorrência de `string2` em `string1`, caso não ocorra nenhuma vez a função deverá retornar `-1`:"
   ]
  },
  {
   "cell_type": "code",
   "execution_count": 48,
   "id": "f0f4c2a8",
   "metadata": {},
   "outputs": [
    {
     "data": {
      "text/plain": [
       "-1"
      ]
     },
     "execution_count": 48,
     "metadata": {},
     "output_type": "execute_result"
    }
   ],
   "source": [
    "# Invocação: indexOf(# Invocação: indexOf(\"Hoje está um belo dia de sol!\", \"belo\")\n",
    "# Resultado: 13\n",
    "\n",
    "# Invocação: indexOf(\"Hoje está um belo dia de sol!\", \"chuva\")\n",
    "# Resultado: -1\n",
    "\n",
    "def myIndexOf(s1, s2):\n",
    "    res = 0\n",
    "    if s2 in s1 :\n",
    "        res = s1.index(s2)\n",
    "    else :\n",
    "        res = -1 \n",
    "    return res\n",
    "\n",
    "myIndexOf(\"Hoje está um belo dia de sol!\", \"belo\")\n",
    "myIndexOf(\"Hoje está um belo dia de sol!\", \"chuva\")"
   ]
  },
  {
   "cell_type": "markdown",
   "id": "7cd572fc",
   "metadata": {},
   "source": [
    "### tpc-3. A Rede Social\n",
    "\n",
    "Considere que a informação sobre uma rede social está armazenada numa lista de dicionários.\n",
    "\n",
    "Cada dicionário, correspondente a um _post_ e tem chaves `id`, `conteudo`, `autor`, `dataCriacao` e `comentarios`.\n",
    "Por sua vez, `comentarios` é uma lista de dicionários com chaves `comentario` e `autor`.\n",
    "\n",
    "Considere o seguinte exemplo:\n",
    "\n",
    "``` \n",
    "    MyFaceBook = [{\n",
    "        'id': 'p1', \n",
    "        'conteudo': 'A tarefa de avaliação é talvez a mais ingrata das tarefas que um professor\n",
    "    tem de realizar...', \n",
    "        'autor': 'jcr', \n",
    "        'dataCriacao': '2023-07-20', \n",
    "        'comentarios': [\n",
    "            {\n",
    "                'comentario': 'Completamente de acordo...',\n",
    "                'autor': 'prh'\n",
    "            },\n",
    "            {\n",
    "                'comentario': 'Mas há quem goste...',\n",
    "                'autor': 'jj'\n",
    "            }\n",
    "        ]},\n",
    "        {\n",
    "            'id': 'p2',\n",
    "            ...\n",
    "        },\n",
    "        ...\n",
    "        ]\n",
    "```"
   ]
  },
  {
   "cell_type": "markdown",
   "id": "89afc758",
   "metadata": {},
   "source": [
    "Defina as seguintes funções de manipulação e consulta da rede social:"
   ]
  },
  {
   "cell_type": "markdown",
   "id": "1aec6cd8",
   "metadata": {},
   "source": [
    "#### a) `quantosPost`, que indica quantos posts estão registados:"
   ]
  },
  {
   "cell_type": "code",
   "execution_count": 111,
   "metadata": {},
   "outputs": [],
   "source": [
    "MyFaceBook=[{'id': 'p1', 'conteudo': 'A tarefa de avaliação é talvez a mais ingrata das tarefas que um professor tem de realizar...',\n",
    " 'autor': 'jcr', 'dataCriacao': '2023-07-20', 'comentarios': [{'comentario': 'Completamente de acordo...','autor': 'prh'},\n",
    "{'comentario': 'Mas há quem goste...','autor': 'jj'}]},{'id': 'p2', 'conteudo': 'A tarefa de avaliação é uma das tarefas que um professor tem de realizar',\n",
    " 'autor': 'Anonimo', 'dataCriacao': '2023-07-20', 'comentarios': [{'comentario': 'Completamente de acordo...','autor': 'prh'},\n",
    "{'comentario': 'Mas há quem goste...','autor': 'jj'}]},{'id': 'p3', 'conteudo': 'Bananas são amarelas',\n",
    " 'autor': 'Anonimo', 'dataCriacao': '2023-07-20', 'comentarios': [{'comentario': 'Completamente de acordo...','autor': 'marco'},\n",
    "{'comentario': 'Mas há quem goste delas verdes...','autor': 'jjj'}]}]"
   ]
  },
  {
   "cell_type": "code",
   "execution_count": 71,
   "id": "39a813ee",
   "metadata": {},
   "outputs": [
    {
     "name": "stdout",
     "output_type": "stream",
     "text": [
      "3\n"
     ]
    }
   ],
   "source": [
    "def quantosPost(redeSocial):\n",
    "    i = 0\n",
    "    for n in redeSocial :\n",
    "        i += 1 \n",
    "    return i\n",
    "\n",
    "print(quantosPost(MyFaceBook))"
   ]
  },
  {
   "cell_type": "markdown",
   "id": "2156a0c8",
   "metadata": {},
   "source": [
    "#### b)  `postsAutor`, que devolve a lista de posts de um determinado autor:"
   ]
  },
  {
   "cell_type": "code",
   "execution_count": 69,
   "id": "8a5a2a41",
   "metadata": {},
   "outputs": [
    {
     "data": {
      "text/plain": [
       "['A tarefa de avaliação é talvez a mais ingrata das tarefas que um professor tem de realizar...']"
      ]
     },
     "execution_count": 69,
     "metadata": {},
     "output_type": "execute_result"
    }
   ],
   "source": [
    "def postsAutor(redeSocial, autor):\n",
    "    lista =[]\n",
    "    for n in redeSocial :\n",
    "        if n['autor'] == autor :\n",
    "            lista.append(n['conteudo'])\n",
    "    return lista\n",
    "\n",
    "postsAutor(MyFaceBook,\"jcr\")"
   ]
  },
  {
   "cell_type": "markdown",
   "id": "12f9126b",
   "metadata": {},
   "source": [
    "#### c) `autores`, que devolve a lista de autores de posts ordenada alfabeticamente:"
   ]
  },
  {
   "cell_type": "code",
   "execution_count": 75,
   "id": "d9dfe30a",
   "metadata": {},
   "outputs": [
    {
     "data": {
      "text/plain": [
       "['Anonimo', 'jcr']"
      ]
     },
     "execution_count": 75,
     "metadata": {},
     "output_type": "execute_result"
    }
   ],
   "source": [
    "def autores(redeSocial):\n",
    "    lista = []\n",
    "    for n in redeSocial :\n",
    "        lista.append(n['autor'])\n",
    "    lista.sort()\n",
    "    nova_lista = []\n",
    "    for elemento in lista:\n",
    "        if elemento not in nova_lista:\n",
    "            nova_lista.append(elemento)\n",
    "    return nova_lista\n",
    "\n",
    "autores(MyFaceBook)"
   ]
  },
  {
   "cell_type": "code",
   "execution_count": 76,
   "metadata": {},
   "outputs": [
    {
     "name": "stdout",
     "output_type": "stream",
     "text": [
      "['Anonimo', 'jcr']\n"
     ]
    }
   ],
   "source": [
    "#outra maneira\n",
    "def autores(redeSocial):\n",
    "    lista= []\n",
    "    for post in redeSocial:\n",
    "        autor = post['autor']\n",
    "        if autor not in lista:\n",
    "            lista.append(autor)\n",
    "    autoresOrdenados = sorted(lista)\n",
    "    return autoresOrdenados\n",
    "\n",
    "print(autores(MyFaceBook))"
   ]
  },
  {
   "cell_type": "markdown",
   "id": "1a0f760b",
   "metadata": {},
   "source": [
    "#### d) `insPost`, que acrescenta um novo post à rede social a partir dos parâmetros recebidos e devolve a nova rede social. \n",
    "    \n",
    "O campo `id` devrá ser calculado a partir dos já existentes, por exemplo, se a rede tiver posts com id `p1`, `p2` e `p3`, o novo `id` deverá ser `p4`."
   ]
  },
  {
   "cell_type": "code",
   "execution_count": null,
   "metadata": {},
   "outputs": [],
   "source": [
    "def insPost(redeSocial, conteudo, autor, dataCriacao, comentarios):\n",
    "    # Encontrar o próximo id disponível\n",
    "    ids_existentes = [post['id'] for post in redeSocial]\n",
    "    if ids_existentes:\n",
    "        proximo_id = 'p' + str(len(ids_existentes) + 1)\n",
    "    else:\n",
    "        proximo_id = 'p1'\n",
    "\n",
    "    # Criar o novo post\n",
    "    novo_post = {\n",
    "        'id': proximo_id,\n",
    "        'conteudo': conteudo,\n",
    "        'autor': autor,\n",
    "        'dataCriacao': dataCriacao,\n",
    "        'comentarios': comentarios\n",
    "    }\n",
    "\n",
    "    # Adicionar o novo post à lista de posts\n",
    "    redeSocial.append(novo_post)\n",
    "\n",
    "    return redeSocial\n",
    "\n",
    "nova_rede_social = insPost(MyFaceBook, 'Novo post!', 'xxx', '2023-07-21', 'adoro o invero')\n",
    "\n",
    "for post in nova_rede_social:\n",
    "    print(post)"
   ]
  },
  {
   "cell_type": "markdown",
   "id": "65061d0a",
   "metadata": {},
   "source": [
    "#### e)  `remPost`, que remove um post da rede, correspondente ao `id` recebido."
   ]
  },
  {
   "cell_type": "code",
   "execution_count": null,
   "id": "dc1adabc",
   "metadata": {},
   "outputs": [],
   "source": [
    "def remPost(redeSocial, id):\n",
    "    for post in redeSocial:\n",
    "        if post['id'] == id:\n",
    "            redeSocial.remove(post)\n",
    "    return redeSocial\n",
    "\n",
    "nova_rede_social = remPost(MyFaceBook, 'p2')\n",
    "\n",
    "for post in nova_rede_social:\n",
    "    print(post)"
   ]
  },
  {
   "cell_type": "markdown",
   "id": "de46a635",
   "metadata": {},
   "source": [
    "#### f) `postsPorAutor`, que devolve uma distribuição de posts por autor (à semelhança do que foi feito nas aulas)."
   ]
  },
  {
   "cell_type": "code",
   "execution_count": 88,
   "id": "4118730d",
   "metadata": {},
   "outputs": [
    {
     "data": {
      "text/plain": [
       "{'jcr': 1, 'Anonimo': 1, 'xxx': 3}"
      ]
     },
     "execution_count": 88,
     "metadata": {},
     "output_type": "execute_result"
    }
   ],
   "source": [
    "def postsPorAutor(redeSocial):\n",
    "    distribuicao_autores = {}\n",
    "    for post in redeSocial :\n",
    "        autor = post['autor']\n",
    "        if post['autor'] not in distribuicao_autores :\n",
    "            distribuicao_autores[post['autor']] = 1\n",
    "        else :\n",
    "            distribuicao_autores[post['autor']] += 1\n",
    "    return distribuicao_autores\n",
    "\n",
    "postsPorAutor(MyFaceBook)"
   ]
  },
  {
   "cell_type": "markdown",
   "id": "5b1d7d7a",
   "metadata": {},
   "source": [
    "#### g) `comentadoPor`, que recebe um autor e devolve a lista de posts comentados por esse autor."
   ]
  },
  {
   "cell_type": "code",
   "execution_count": 114,
   "metadata": {},
   "outputs": [
    {
     "data": {
      "text/plain": [
       "['A tarefa de avaliação é talvez a mais ingrata das tarefas que um professor tem de realizar...',\n",
       " 'A tarefa de avaliação é uma das tarefas que um professor tem de realizar']"
      ]
     },
     "execution_count": 114,
     "metadata": {},
     "output_type": "execute_result"
    }
   ],
   "source": [
    "def comentadoPor(redeSocial, autor):\n",
    "    lista = []\n",
    "    for post in redeSocial:\n",
    "        comentarios = post['comentarios']\n",
    "        for c in comentarios:\n",
    "            if c['autor'] == autor:\n",
    "                lista.append(post['conteudo'])\n",
    "\n",
    "    return lista\n",
    "comentadoPor(MyFaceBook,'jj')"
   ]
  }
 ],
 "metadata": {
  "kernelspec": {
   "display_name": "Python 3.9.1 64-bit",
   "language": "python",
   "name": "python3"
  },
  "language_info": {
   "codemirror_mode": {
    "name": "ipython",
    "version": 3
   },
   "file_extension": ".py",
   "mimetype": "text/x-python",
   "name": "python",
   "nbconvert_exporter": "python",
   "pygments_lexer": "ipython3",
   "version": "3.11.6"
  },
  "vscode": {
   "interpreter": {
    "hash": "aee8b7b246df8f9039afb4144a1f6fd8d2ca17a180786b69acc140d282b71a49"
   }
  }
 },
 "nbformat": 4,
 "nbformat_minor": 5
}
